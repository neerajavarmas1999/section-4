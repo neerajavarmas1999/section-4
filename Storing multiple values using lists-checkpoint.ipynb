{
 "cells": [
  {
   "cell_type": "code",
   "execution_count": 1,
   "id": "ce430dfd",
   "metadata": {},
   "outputs": [
    {
     "name": "stdout",
     "output_type": "stream",
     "text": [
      "Mountain Bike\n",
      "Ski Jacket\n",
      "Electric Guitar\n",
      "PS3 - 500Gb\n",
      "Badminton Racquet\n"
     ]
    }
   ],
   "source": [
    "#46\n",
    "items = [\"Mountain Bike\",\"Ski Jacket\",\"Electric Guitar\",\"PS3 - 500Gb\",\"Badminton Racquet\"]\n",
    "for loop in range(5):\n",
    "    print(items[loop])\n"
   ]
  },
  {
   "cell_type": "code",
   "execution_count": 5,
   "id": "e16dcd94",
   "metadata": {},
   "outputs": [
    {
     "name": "stdout",
     "output_type": "stream",
     "text": [
      "Mountain Bike  - $ 200\n",
      "Ski Jacket  - $ 67\n",
      "Electric Guitar  - $ 330\n",
      "PS3 - 500Gb  - $ 120\n",
      "Badminton Racquet  - $ 15\n"
     ]
    }
   ],
   "source": [
    "#47\n",
    "items = [\"Mountain Bike\",\"Ski Jacket\",\"Electric Guitar\",\"PS3 - 500Gb\",\"Badminton Racquet\"]\n",
    "prices = [200,67,330,120,15]\n",
    "for loop in range(5):\n",
    "    print(items[loop],\" - $\",prices[loop])"
   ]
  },
  {
   "cell_type": "code",
   "execution_count": 7,
   "id": "f4e04837",
   "metadata": {},
   "outputs": [
    {
     "name": "stdout",
     "output_type": "stream",
     "text": [
      "Please enter the score for each ball.\n",
      "0\n",
      "2\n",
      "0\n",
      "0\n",
      "4\n",
      "6\n",
      "This over’s score was: 12\n",
      "With each ball scoring:\n",
      "0\n",
      "2\n",
      "0\n",
      "0\n",
      "4\n",
      "6\n"
     ]
    }
   ],
   "source": [
    "#48\n",
    "scores=[0]*6\n",
    "count=0\n",
    "print(\"Please enter the score for each ball.\")\n",
    "for loop in range(6):\n",
    "    scores[loop] = int(input()) \n",
    "    count = count + scores[loop]\n",
    "print(\"This over’s score was:\",count)\n",
    "print(\"With each ball scoring:\")\n",
    "for loop in range(6):\n",
    "    print(scores[loop])"
   ]
  },
  {
   "cell_type": "code",
   "execution_count": 9,
   "id": "c9926bfa",
   "metadata": {},
   "outputs": [
    {
     "name": "stdout",
     "output_type": "stream",
     "text": [
      "Please enter a nameJean Gray\n",
      "Please enter Jean Gray's age13\n",
      "Please enter a nameMax Eisenhardt\n",
      "Please enter Max Eisenhardt's age24\n",
      "Please enter a nameJames Howlett\n",
      "Please enter James Howlett's age15\n",
      "Please enter a nameAleksy Howak\n",
      "Please enter Aleksy Howak's age9\n",
      "Names and Competition List:\n",
      "Jean Gray - Teen\n",
      "Max Eisenhardt - Senior\n",
      "James Howlett - Teen\n",
      "Aleksy Howak - Junior\n"
     ]
    }
   ],
   "source": [
    "#49\n",
    "names = [\"\"]*4\n",
    "ages = [0]*4\n",
    "for counter in range(4):\n",
    "    names[counter] = (input(\"Please enter a name\"))\n",
    "    ages[counter] = int(input(\"Please enter \"+names[counter]+\"'s age\"))\n",
    "print(\"Names and Competition List:\")\n",
    "for counter in range(4):\n",
    "    if ages[counter] < 12:\n",
    "        print(names[counter],\"-\",\"Junior\")\n",
    "    elif ages[counter] >= 12 and ages[counter]<18:\n",
    "        print(names[counter],\"-\",\"Teen\")\n",
    "    elif ages[counter] >= 18:\n",
    "        print(names[counter],\"-\",\"Senior\")"
   ]
  },
  {
   "cell_type": "code",
   "execution_count": 12,
   "id": "3db0e470",
   "metadata": {},
   "outputs": [
    {
     "name": "stdout",
     "output_type": "stream",
     "text": [
      "Please enter the maximum age of the horse14\n",
      "Please enter the maximum height of the horse14\n",
      "Suitable horses are:\n",
      "Magi, 10 years , 13 hands\n",
      "Francine, 8 years , 14 hands\n",
      "Langrish, 13 years , 14 hands\n"
     ]
    }
   ],
   "source": [
    "#50\n",
    "names = [\"Black Beauty\",\"Deryl\",\"Beth\",\"Hershi\",\"Magi\",\"Caramel\",\"White Beauty\",\"Can\",\"Francine\",\"Langrish\"]\n",
    "ages = [12,18,5,5,10,14,19,15,8,13]\n",
    "heights = [15,12,16,15,13,18,12,14,14,14]\n",
    "maxage = int(input(\"Please enter the maximum age of the horse\"))\n",
    "maxheight = int(input(\"Please enter the maximum height of the horse\"))\n",
    "print(\"Suitable horses are:\")\n",
    "for loop in range (10):\n",
    "    if ages[loop] <= maxage and heights[loop] <= maxheight:\n",
    "        print (names[loop]+\",\",ages[loop],\"years ,\",heights[loop],\"hands\")"
   ]
  },
  {
   "cell_type": "code",
   "execution_count": 14,
   "id": "30eb4edd",
   "metadata": {},
   "outputs": [
    {
     "name": "stdout",
     "output_type": "stream",
     "text": [
      "House floor area calculator\n",
      "Please enter the number of rooms in the house3\n",
      "Please enter the name of room 1Lounge\n",
      "Please enter the length (m) of room 13.56\n",
      "Please enter the width (m) of room 14.7\n",
      "Please enter the name of room 2Kitchen\n",
      "Please enter the length (m) of room 22.26\n",
      "Please enter the width (m) of room 23.69\n",
      "Please enter the name of room 3Bedroom\n",
      "Please enter the length (m) of room 34.5\n",
      "Please enter the width (m) of room 34.7\n",
      "House details:\n",
      "Room - Lounge\n",
      "16.7 metres squared\n",
      "Room - Kitchen\n",
      "8.3 metres squared\n",
      "Room - Bedroom\n",
      "21.2 metres squared\n",
      "The total area is calculated as:\n",
      "46.2 metres squared\n"
     ]
    }
   ],
   "source": [
    "#51\n",
    "print(\"House floor area calculator\")\n",
    "number = int(input(\"Please enter the number of rooms in the house\"))\n",
    "name = [\"\"]*number\n",
    "length = [0]* number\n",
    "width = [0]* number\n",
    "for loop1 in range(number):\n",
    "    name[loop1] = str(input(\"Please enter the name of room \"+str(loop1+1)))\n",
    "    length[loop1] = float(input(\"Please enter the length (m) of room \"+str(loop1+1)))\n",
    "    width[loop1] = float(input(\"Please enter the width (m) of room \"+str(loop1+1)))\n",
    "print(\"House details:\")\n",
    "total=0\n",
    "for loop2 in range(number):\n",
    "    print(\"Room -\",name[loop2])\n",
    "    area = length[loop2] * width[loop2]\n",
    "    print(round(area,1),\"metres squared\")\n",
    "    total = total + area\n",
    "print(\"The total area is calculated as:\")\n",
    "print(round(total,1),\"metres squared\")\n",
    "\n"
   ]
  },
  {
   "cell_type": "code",
   "execution_count": 16,
   "id": "5f6450e7",
   "metadata": {},
   "outputs": [
    {
     "name": "stdout",
     "output_type": "stream",
     "text": [
      "Who's Going?\n",
      "Mellisa?\n",
      "Y\n",
      "Evelyn?\n",
      "Y\n",
      "Emmy?\n",
      "N\n",
      "Karen?\n",
      "N\n",
      "Dorek?\n",
      "Y\n",
      "Norma?\n",
      "Y\n",
      "Agnes?\n",
      "N\n",
      "Billy?\n",
      "Y\n",
      "Gawel?\n",
      "Y\n",
      "Arthur?\n",
      "N\n",
      "Party Attendance List:\n",
      "Mellisa\n",
      "Evelyn\n",
      "Dorek\n",
      "Norma\n",
      "Billy\n",
      "Gawel\n"
     ]
    }
   ],
   "source": [
    "#52\n",
    "names = [\"Mellisa\",\"Evelyn\",\"Emmy\",\"Karen\",\"Dorek\",\"Norma\",\"Agnes\",\"Billy\",\"Gawel\",\"Arthur\"]\n",
    "ans = [False]*10\n",
    "print(\"Who's Going?\")\n",
    "for loop1 in range(10):\n",
    "    print(names[loop1]+\"?\")\n",
    "    present = str(input())\n",
    "    if present == \"Y\" or present == \"y\":\n",
    "        ans[loop1] = True\n",
    "print(\"Party Attendance List:\")\n",
    "for loop2 in range(10):\n",
    "    if ans[loop2] == True:\n",
    "        print(names[loop2])\n"
   ]
  },
  {
   "cell_type": "code",
   "execution_count": 1,
   "id": "7a385160",
   "metadata": {},
   "outputs": [
    {
     "name": "stdout",
     "output_type": "stream",
     "text": [
      "How many members have requested a seat?5\n",
      "Please enter your name.Hubab\n",
      "Which row would you like to sit in?2\n",
      "Which seat would you like to sit in?3\n",
      "Thank you,your name has been added.\n",
      "Please enter your name.Jessica\n",
      "Which row would you like to sit in?2\n",
      "Which seat would you like to sit in?2\n",
      "Thank you,your name has been added.\n",
      "Please enter your name.Denzell\n",
      "Which row would you like to sit in?4\n",
      "Which seat would you like to sit in?2\n",
      "Thank you,your name has been added.\n",
      "Please enter your name.Talish\n",
      "Which row would you like to sit in?4\n",
      "Which seat would you like to sit in?3\n",
      "Thank you,your name has been added.\n",
      "Please enter your name.Andrew\n",
      "Which row would you like to sit in?4\n",
      "Which seat would you like to sit in?4\n",
      "Thank you,your name has been added.\n",
      "seat must be between 0 and 3\n",
      "Which seat would you like to sit in?1\n",
      "0.  Empty  Empty  Empty  Empty  \n",
      "1.  Empty  Empty  Empty  Empty  \n",
      "2.  Empty  Empty  Jessica  Hubab  \n",
      "3.  Empty  Empty  Empty  Empty  \n",
      "4.  Empty  Andrew  Denzell  Talish  \n"
     ]
    }
   ],
   "source": [
    "#53\n",
    "seats = [[\"Empty\"] * 4 for loop in range(5)]\n",
    "members = int(input(\"How many members have requested a seat?\"))\n",
    "for loop1 in range(members):\n",
    "    name = str(input(\"Please enter your name.\"))\n",
    "    row = int(input(\"Which row would you like to sit in?\"))\n",
    "    while row<0 or row>4:\n",
    "        print(\"Row must be between 0 and 4\")\n",
    "        row = int(input(\"Which row would you like to sit in?\"))\n",
    "    seat = int(input(\"Which seat would you like to sit in?\"))\n",
    "    print(\"Thank you,your name has been added.\")\n",
    "    while seat<0 or seat>3:\n",
    "        print(\"seat must be between 0 and 3\")\n",
    "        seat = int(input(\"Which seat would you like to sit in?\"))\n",
    "        \n",
    "    seats[row][seat] = name\n",
    "for loop2 in range(5):\n",
    "    print(str(loop2)+\". \",end=' ')\n",
    "    for loop3 in range(4):\n",
    "        print(seats[loop2][loop3],\"\",end=' ')\n",
    "    print()"
   ]
  },
  {
   "cell_type": "code",
   "execution_count": 2,
   "id": "3bf0ab63",
   "metadata": {},
   "outputs": [
    {
     "name": "stdout",
     "output_type": "stream",
     "text": [
      "Please enter the number of weeds counted at 1,1:3\n",
      "Please enter the number of weeds counted at 1,2:0\n",
      "Please enter the number of weeds counted at 1,3:2\n",
      "Please enter the number of weeds counted at 1,4:2\n",
      "Please enter the number of weeds counted at 1,5:0\n",
      "Please enter the number of weeds counted at 2,1:2\n",
      "Please enter the number of weeds counted at 2,2:3\n",
      "Please enter the number of weeds counted at 2,3:0\n",
      "Please enter the number of weeds counted at 2,4:2\n",
      "Please enter the number of weeds counted at 2,5:2\n",
      "Please enter the number of weeds counted at 3,1:0\n",
      "Please enter the number of weeds counted at 3,2:2\n",
      "Please enter the number of weeds counted at 3,3:3\n",
      "Please enter the number of weeds counted at 3,4:0\n",
      "Please enter the number of weeds counted at 3,5:2\n",
      "Please enter the number of weeds counted at 4,1:2\n",
      "Please enter the number of weeds counted at 4,2:0\n",
      "Please enter the number of weeds counted at 4,3:2\n",
      "Please enter the number of weeds counted at 4,4:3\n",
      "Please enter the number of weeds counted at 4,5:0\n",
      "Please enter the number of weeds counted at 5,1:2\n",
      "Please enter the number of weeds counted at 5,2:2\n",
      "Please enter the number of weeds counted at 5,3:0\n",
      "Please enter the number of weeds counted at 5,4:2\n",
      "Please enter the number of weeds counted at 5,5:3\n",
      "3  0  2  2  0  \n",
      "2  3  0  2  2  \n",
      "0  2  3  0  2  \n",
      "2  0  2  3  0  \n",
      "2  2  0  2  3  \n",
      "The total number of weeds found was - 39\n"
     ]
    }
   ],
   "source": [
    "#54\n",
    "weeds = [[0] * 5 for loop in range(5)]\n",
    "total = 0\n",
    "for loop1 in range(5):\n",
    "    for loop2 in range(5):\n",
    "        weeds[loop1][loop2] = int(input(\"Please enter the number of weeds counted at \"+str(loop1+1)+\",\"+str(loop2+1)+\":\"))\n",
    "        total = total + weeds[loop1][loop2]\n",
    "for loop3 in range(5):\n",
    "    for loop4 in range(5):\n",
    "        print(weeds[loop3][loop4],\"\",end=' ')\n",
    "    print()\n",
    "print(\"The total number of weeds found was -\",total)"
   ]
  },
  {
   "cell_type": "code",
   "execution_count": 5,
   "id": "0fcd3768",
   "metadata": {},
   "outputs": [
    {
     "name": "stdout",
     "output_type": "stream",
     "text": [
      "Please enter over 1 for Team 1\n",
      "2\n",
      "1\n",
      "0\n",
      "0\n",
      "6\n",
      "6\n",
      "Please enter over 2 for Team 1\n",
      "0\n",
      "3\n",
      "1\n",
      "4\n",
      "1\n",
      "2\n",
      "Please enter over 3 for Team 1\n",
      "1\n",
      "0\n",
      "3\n",
      "0\n",
      "0\n",
      "3\n",
      "Please enter over 1 for Team 2\n",
      "0\n",
      "0\n",
      "4\n",
      "4\n",
      "1\n",
      "2\n",
      "Please enter over 2 for Team 2\n",
      "1\n",
      "2\n",
      "4\n",
      "0\n",
      "0\n",
      "4\n",
      "Please enter over 3 for Team 2\n",
      "3\n",
      "2\n",
      "1\n",
      "0\n",
      "1\n",
      "0\n",
      "Score for Team 1's three overs:\n",
      "33\n",
      "Score for Team 2's three overs:\n",
      "29\n",
      "Team 1 won the match.\n",
      "Do you wish to calculate the result of another game?N\n"
     ]
    }
   ],
   "source": [
    "#55\n",
    "scores1 = [[0] * 6 for main in range(3)]\n",
    "scores2 = [[0] * 6 for main in range(3)]\n",
    "game = \"Y\"\n",
    "while game ==\"Y\":\n",
    "    team1 = 0\n",
    "    team2 = 0\n",
    "    for loop1 in range(3):\n",
    "        print(\"Please enter over \"+str(loop1+1)+\" for Team 1\")\n",
    "        for loop2 in range(6):\n",
    "            scores1[loop1][loop2] = int(input())\n",
    "            team1 = team1 + scores1[loop1][loop2]\n",
    "    for loop3 in range(3):\n",
    "        print(\"Please enter over \"+str(loop3+1)+\" for Team 2\")\n",
    "        for loop4 in range(6):\n",
    "            scores2[loop3][loop4] = int(input())\n",
    "            team2 = team2 + scores2[loop3][loop4]\n",
    "    print(\"Score for Team 1's three overs:\")\n",
    "    print(team1)\n",
    "    print(\"Score for Team 2's three overs:\")\n",
    "    print(team2)\n",
    "    if team1>team2:\n",
    "        print(\"Team 1 won the match.\")\n",
    "    else:\n",
    "        print(\"Team 2 won the match.\")\n",
    "    game = str(input(\"Do you wish to calculate the result of another game?\"))"
   ]
  },
  {
   "cell_type": "markdown",
   "id": "6701d786",
   "metadata": {},
   "source": []
  }
 ],
 "metadata": {
  "kernelspec": {
   "display_name": "Python 3",
   "language": "python",
   "name": "python3"
  },
  "language_info": {
   "codemirror_mode": {
    "name": "ipython",
    "version": 3
   },
   "file_extension": ".py",
   "mimetype": "text/x-python",
   "name": "python",
   "nbconvert_exporter": "python",
   "pygments_lexer": "ipython3",
   "version": "3.8.8"
  }
 },
 "nbformat": 4,
 "nbformat_minor": 5
}
